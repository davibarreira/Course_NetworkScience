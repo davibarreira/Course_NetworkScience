{
 "cells": [
  {
   "cell_type": "markdown",
   "id": "ef847676",
   "metadata": {
    "id": "ef847676"
   },
   "source": [
    "# Teste de Python\n",
    "\n",
    "* Neste teste, avaliaremos alguns conhecimentos básicos em Python e numpy. \n",
    "* Não se preocupe caso você não cosiga finalizar o teste. Não atribuiremos nota a esta atividade. \n",
    "* Esta atividade nos ajudará a preparar o conteúdo dos próximos laboratórios :)\n"
   ]
  },
  {
   "cell_type": "code",
   "execution_count": 1,
   "id": "76f74c4e",
   "metadata": {
    "id": "76f74c4e"
   },
   "outputs": [
    {
     "name": "stdout",
     "output_type": "stream",
     "text": [
      "--2021-06-18 14:34:37--  https://www.dropbox.com/s/j8m8k939so45hh5/matrix.txt\n",
      "Resolving www.dropbox.com (www.dropbox.com)... 2620:100:601d:18::a27d:512, 162.125.5.18\n",
      "Connecting to www.dropbox.com (www.dropbox.com)|2620:100:601d:18::a27d:512|:443... connected.\n",
      "HTTP request sent, awaiting response... 301 Moved Permanently\n",
      "Location: /s/raw/j8m8k939so45hh5/matrix.txt [following]\n",
      "--2021-06-18 14:34:38--  https://www.dropbox.com/s/raw/j8m8k939so45hh5/matrix.txt\n",
      "Reusing existing connection to [www.dropbox.com]:443.\n",
      "HTTP request sent, awaiting response... 302 Found\n",
      "Location: https://ucb700e9593132aa75cf4be6531e.dl.dropboxusercontent.com/cd/0/inline/BQqH9VpQgYB5Iub1Fgfy0IxAtuJAg20u73HzJi97-kVztsj188D5x7le-1H6MWbAwwqnRS9F2Shyx2KGplyoBJyLcO5pe54o9qFIdPT8pNy4-xAMVZ_HobkY49kM3YiftROEQe1OaFB7rdonEw1vkS89/file# [following]\n",
      "--2021-06-18 14:34:38--  https://ucb700e9593132aa75cf4be6531e.dl.dropboxusercontent.com/cd/0/inline/BQqH9VpQgYB5Iub1Fgfy0IxAtuJAg20u73HzJi97-kVztsj188D5x7le-1H6MWbAwwqnRS9F2Shyx2KGplyoBJyLcO5pe54o9qFIdPT8pNy4-xAMVZ_HobkY49kM3YiftROEQe1OaFB7rdonEw1vkS89/file\n",
      "Resolving ucb700e9593132aa75cf4be6531e.dl.dropboxusercontent.com (ucb700e9593132aa75cf4be6531e.dl.dropboxusercontent.com)... 2620:100:601d:15::a27d:50f, 162.125.5.15\n",
      "Connecting to ucb700e9593132aa75cf4be6531e.dl.dropboxusercontent.com (ucb700e9593132aa75cf4be6531e.dl.dropboxusercontent.com)|2620:100:601d:15::a27d:50f|:443... connected.\n",
      "HTTP request sent, awaiting response... 200 OK\n",
      "Length: 62500 (61K) [text/plain]\n",
      "Saving to: ‘matrix.txt’\n",
      "\n",
      "matrix.txt          100%[===================>]  61.04K  --.-KB/s    in 0.1s    \n",
      "\n",
      "2021-06-18 14:34:40 (421 KB/s) - ‘matrix.txt’ saved [62500/62500]\n",
      "\n"
     ]
    }
   ],
   "source": [
    "# Execute esta linha apenas se estiver utilizando Google Colab\n",
    "\n",
    "!wget https://www.dropbox.com/s/j8m8k939so45hh5/matrix.txt "
   ]
  },
  {
   "cell_type": "markdown",
   "id": "477dbdf9",
   "metadata": {
    "id": "477dbdf9"
   },
   "source": [
    "## Excercício 0: importação de módulos <a id='ex1'></a> \n",
    "\n",
    "Importe os seguintes módulos:\n",
    "* `numpy` com o alias `np`.\n",
    "* `matplotlib.pyplot` como `plt`\n"
   ]
  },
  {
   "cell_type": "code",
   "execution_count": 1,
   "id": "c25a3df1",
   "metadata": {
    "id": "c25a3df1"
   },
   "outputs": [],
   "source": [
    "# Seu código vem aqui\n",
    "%config Completer.use_jedi = False # Código para o autocomplete funcionar no notebook local\n",
    "import numpy as np\n",
    "from matplotlib import pyplot as plt\n"
   ]
  },
  {
   "cell_type": "markdown",
   "id": "8b9a0a46",
   "metadata": {
    "id": "8b9a0a46"
   },
   "source": [
    "# Exercício 1: criar matrizes aleatórias com o numpy\n",
    "\n",
    "Crie as seguintes matrizes com o numpy:\n",
    "* Uma matriz aleatória binária (contendo apenas 0s e 1s) `A` com dimensões `20 x 20` \n",
    "* Uma matriz aleatória `B` do tipo float de dimensões `20 x 20` com valores no intervalo `[0,1)`\n",
    "* Uma matriz identidade `I` de dimensões `20 x 20` \n",
    "* Obtenha a matriz $C = I + AB^T$\n",
    "* Inverta a matriz `C` e armazene em `D`, isto é $D = C^{-1}$\n",
    "* Crie matriz simétrica `A_s` a partir de `A` de forma que a diagonal principal seja igual a zero (${A\\_s}_{ii} = 0$),  os elementos acima da diagonal principal (triângulo superior) sejam iguais aos da matriz original ($A{\\_s}_{ij} = A_{ij}$ quando $j > i$) e os elementos abaixo da diagonal (triângulo inferior) sejam simétricos aos que estão acima ($A{\\_s}_{ij} = A_{ji}$ quando $i > j$)"
   ]
  },
  {
   "cell_type": "code",
   "execution_count": 31,
   "id": "8f273c53",
   "metadata": {
    "id": "8f273c53"
   },
   "outputs": [],
   "source": [
    "np.random.seed(0)\n",
    "\n",
    "# coloque seu código aqui (substitua None com a sua resposta)\n",
    "A = np.random.randint(2, size=(20,20))\n",
    "B = np.random.random((20,20))\n",
    "I = np.eye(20,20)\n",
    "C = I + A@B.T\n",
    "D = np.linalg.inv(C)\n",
    "A_s = np.triu(A) + np.triu(A).T - 2*np.diag(A.diagonal())\n",
    "\n",
    "ex_1_vars = [A, B, I, C, D, A_s]\n"
   ]
  },
  {
   "cell_type": "markdown",
   "id": "adc99041",
   "metadata": {
    "id": "adc99041"
   },
   "source": [
    "3# Exercício 2: numpy e operadores de listas\n",
    "\n",
    "Começando a partir das variáveis `A` e `B` geradas a seguir, execute as seguintes operações, e adicione os resultados na variável `ex_2_vars`:\n",
    "\n",
    "* Gere a matriz `C` resultante da multiplicação entre cada elemento de A com o elemento correspondente em B, isto é $C_{ij} = A_{ij}B_{ij}$\n",
    "* Obtenha a soma `s` de todos os elementos de `C` \n",
    "* Obtenha a média `mean_r` de cada linha de `C`\n",
    "* Obtenha a variância `var_c` de cada coluna de `C`\n"
   ]
  },
  {
   "cell_type": "code",
   "execution_count": 148,
   "id": "a47730c9",
   "metadata": {
    "id": "a47730c9"
   },
   "outputs": [],
   "source": [
    "np.random.seed(0)\n",
    "A = np.random.rand(10, 10)\n",
    "B = np.random.rand(10, 10)\n",
    "\n",
    "# Coloque seu código aqui (substitua None pela resposta)\n",
    "C = A*B\n",
    "s = np.sum(C)\n",
    "mean_r = np.mean(C, axis=1)\n",
    "var_c = np.var(C, axis=0)\n",
    "ex_2_vars = [C, s, mean_r, var_c]\n"
   ]
  },
  {
   "cell_type": "markdown",
   "id": "295b7e40",
   "metadata": {
    "id": "295b7e40"
   },
   "source": [
    "## Excercício 3: amostragem\n",
    "\n",
    "Utilizando o numpy:\n",
    "\n",
    "* Gere 1000 valores aleatoriamente a partir de uma distribuição **uniforme** no intervalo $[0, 10]$ e guarde o resultado na variável `x` \n",
    "* Ordene os valores de `x` em ordem **decrescente** e armazene a resposta em `x_sort`\n",
    "* Gere 1000 valores aleatoriamente a partir da distribuição **normal** com média 2 e desvio padrão 5 e armezene a resposta na variável `y`\n",
    "* Normalize os valores de `y` de forma que tenham média zero e variância 1 e guarde o valor resultante em `z`\n",
    "* Gere 1000 pontos de uma distribuição **normal bivariada** com médias (0,0), desvios padrão (1, 1) e covariância 0.5. Guarde os pontos na variável `w`\n",
    "* Calcule a correlação `cor_w` entre as duas variáveis armazenadas em `w`\n",
    "* Armazene os dados gerados na variável `ex_3_vars`.\n",
    "* Em cada uma das células indicadas a seguir, gere (utilizando matplotlib.pyplot): (a) um histograma de `x`, (b) boxplots comparando os valores de `y` e `z` e (c) um gráfico de dispersão (scatterplot) mostrando os pares observados de `w`.\n"
   ]
  },
  {
   "cell_type": "code",
   "execution_count": 147,
   "id": "2f71a491",
   "metadata": {
    "id": "2f71a491"
   },
   "outputs": [],
   "source": [
    "np.random.seed(0)\n",
    "\n",
    "# Escreva seu código abaixo (substitua None pela resposta)\n",
    "\n",
    "x = np.random.uniform(size=1000)\n",
    "x_sort = np.sort(x)[::-1]\n",
    "y = np.random.normal(loc=2, scale=5,size=1000)\n",
    "z = (y - np.mean(y))/ np.std(y)\n",
    "w = np.random.multivariate_normal([0,0], [[1,0.5],[0.5,1]], size=1000)\n",
    "cor_w = np.corrcoef(w.T)[0][1]\n",
    "ex_3_vars = [x, x_sort, y, z, w, cor_w]\n"
   ]
  },
  {
   "cell_type": "code",
   "execution_count": null,
   "id": "d99fcfd0",
   "metadata": {
    "id": "d99fcfd0"
   },
   "outputs": [],
   "source": [
    "# (a) Gere o histograma de x:\n",
    "\n"
   ]
  },
  {
   "cell_type": "code",
   "execution_count": null,
   "id": "8f567ec1",
   "metadata": {
    "id": "8f567ec1"
   },
   "outputs": [],
   "source": [
    "# (b) Gere boxplots comparando y e z\n",
    "\n"
   ]
  },
  {
   "cell_type": "code",
   "execution_count": null,
   "id": "e534f704",
   "metadata": {
    "id": "e534f704"
   },
   "outputs": [],
   "source": [
    "# (c) Gere um scatterplot comparando as variáveis armazenadas em w:\n"
   ]
  },
  {
   "cell_type": "markdown",
   "id": "fa130238",
   "metadata": {
    "id": "fa130238"
   },
   "source": [
    "## Excercício 4: Leitura de arquivo e filtragem de dados\n",
    "\n",
    "Utilizando o numpy:\n",
    "\n",
    "* Leia o arquivo `matrix.txt` e salve o conteúdo na matriz `E`\n",
    "* Crie uma matriz `F` que contenha uma cópia dos elementos de `E`. Modifique `F` de forma que apenas os 20% valores maiores sejam mantidos e os 80% restantes sejam substituídos por zero.\n",
    "* Salve as matrizes obtidas em `ex_4_vars`"
   ]
  },
  {
   "cell_type": "code",
   "execution_count": null,
   "id": "f3bca584",
   "metadata": {
    "id": "f3bca584"
   },
   "outputs": [],
   "source": [
    "# Escreva seu código abaixo (substitua None pela resposta)\n",
    "\n",
    "\n",
    "E = None\n",
    "th = None\n",
    "i = None\n",
    "F = None\n",
    "\n",
    "ex_4_vars = [E, F]"
   ]
  }
 ],
 "metadata": {
  "colab": {
   "collapsed_sections": [],
   "name": "Teste_python_ciencia_de_redes.ipynb",
   "provenance": []
  },
  "kernelspec": {
   "display_name": "ds",
   "language": "python",
   "name": "ds"
  },
  "language_info": {
   "codemirror_mode": {
    "name": "ipython",
    "version": 3
   },
   "file_extension": ".py",
   "mimetype": "text/x-python",
   "name": "python",
   "nbconvert_exporter": "python",
   "pygments_lexer": "ipython3",
   "version": "3.8.8"
  }
 },
 "nbformat": 4,
 "nbformat_minor": 5
}
